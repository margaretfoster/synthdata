{
 "cells": [
  {
   "cell_type": "markdown",
   "id": "f6cf3241",
   "metadata": {},
   "source": [
    "\n"
   ]
  },
  {
   "cell_type": "markdown",
   "id": "74820792",
   "metadata": {},
   "source": [
    "# Introduction\n",
    "\n",
    "This notebook walks through creating a synthetic version of the `checkout` dataframe from Data Camp's \"A/B Testing in Python\" tutorial. (This is a case of translating concepts that I know in an academic context and in R into an industry context and Python.)"
   ]
  },
  {
   "cell_type": "markdown",
   "id": "bd243365",
   "metadata": {},
   "source": [
    "## Outline\n",
    "\n",
    "This notebook is organized as a narrative tutorial. It has the following structure:\n",
    "\n",
    "- Introduction\n",
    "- Inital Description of Features\n",
    "- Synthetic Independent Variables\n",
    "- Synthetic Conditional Variables"
   ]
  },
  {
   "cell_type": "markdown",
   "id": "764c1df8",
   "metadata": {},
   "source": [
    "# Initial Description of the Features\n",
    "\n",
    "\n",
    "The goal of the following tutorial is to create a synthetic version of Data Camp's \"checkout\" data frame.\n",
    "\n",
    "Before I start coding, it is worth identifying the data set features and giving some initial thought to the data generating process (DGP), dependencies, and any other considerations that might influence the implementation. \n",
    "\n",
    "At this point, I have only seen the summary data in the first few segments of the tutorial, so I'll start by making some assumptions about values and the data-generating process. I can go back and refine as needed.\n",
    "\n",
    "### Features:\n",
    "\n",
    "User_id: \n",
    "\n",
    "9000 unique integers.\n",
    "\n",
    "We assume that this is independent of the other features and does not encode any other information. \n",
    "\n",
    "Thus, I can produce it by replicating the row numbers or with a simple 1:9000 call.\n",
    "\n",
    "checkout_page: \n",
    "\n",
    "9000 objects\n",
    "\n",
    "We can quickly discover that `checkout_page` is a categorical variable that takes the values of A, B, or C. It codes which landing page the shopper ended up on. Checkout_page is the experiment condition. \n",
    "\n",
    "I'll start the initial page assignment probability at 1/3 each and then iterate as I learn more about the data I am trying to simulate.\n",
    "\n",
    "order_value: \n",
    "\n",
    "7605 floats.\n",
    "\n",
    "Order value is a numeric vector of purchase values. At a minimum, we want this value to be conditional on the checkout page value. If we wanted a more complex DGP, we could consider a few paths: \n",
    "One option would be to generate the values as a function of a regression model: `Y_i = B1x1 + ...BnXn + e`\n",
    "\n",
    "Alternatively, we could generate values as draws from a Bayesian distribution with however many priors we wanted.\n",
    "\n",
    "However, without a compelling reason to make the distribution more complex, the simplest way to create the value is to model it via an assumed DGP and the checkout page.\n",
    "\n",
    "Here, I will operationalize this based on the assumption that checkout rows are independently and identically distributed (i.i.d.) normal variables. I'll assume that the intervention—which checkout page the visitor lands on—shifts the mean and standard deviation of purchases. \n",
    "I am also assuming that condition \"B\" is the baseline.\n",
    "\n",
    "- checkout_value | page = A ~ N(M + A_effect, sd)\n",
    "- checkout_value | page = B ~N(M, sd)\n",
    "- checkout_value | page = C ~ N(M + C_effect, sd)\n",
    "\n",
    "With the data in front of me in the terminal, I can put numbers on the hyperparameters by asking for a summary by group:\n",
    "\n",
    "`print(checkout.groupby('checkout_page')['order_value'].describe())`\n",
    "\n",
    "We get the information that (if \"B\" is our baseline):\n",
    "\n",
    "- Mu is about 30, and the baseline sd is 7; \n",
    "- A_effect is about -5.0,  sd_a is about 2.5; \n",
    "- C_effect is about +5, sd_c is about 5; \n",
    "\n",
    "Purchases: \n",
    "\n",
    "9000 floats\n",
    "\n",
    "At the start, this feature is something of a black box. \n",
    "Lacking additional insights, we'll assume that it represents the number of items in each checkout cat. \n",
    "\n",
    "Start the initial value as an integer from 1-5, and we will assume that the checkout page also affects the number of items purchased. \n",
    "\n",
    "Because we don't necessarily need the model to be conjugate, and I assume this is a count variable, I will model the number of items purchased as a Poisson process.\n",
    "\n",
    "As with checkout value, I assume that checkout page A increases purchases, checkout page C decreases purchases, and checkout page B is the control:\n",
    "\n",
    "- purchases | page = A ~P(lambda + A_effect_p)\n",
    "- purchases | page = B ~P(lambda)\n",
    "- purchases | page = C ~P(lambda + C_effect_p)\n",
    "\n",
    "gender: \n",
    "\n",
    "9000 objects, representing a categorical variable that takes the values of M and F.\n",
    "\n",
    "Gender is a binomial distribution that is independent of the checkout page experiment. We know that the data has a 50-50 split.\n",
    "\n",
    "gender ~Bin(n, p)\n",
    "\n",
    "browser\n",
    "\n",
    "9000 objects. Browser is a categorical variable with \"Chrome,\" \"Firefox,\" and \"Safari\" as the levels. \n",
    "\n",
    "Without the data to compare to, I set the synthetic distribution according to the February 2024 distribution of browser uses:  65% Google Chrome, 18% Safari, and the remainder simplified as \"Firefox\". \n",
    "\n",
    "The straightforward way to execute this is to generate a uniform vector and use case logic to transform it into a categorical variable.\n",
    "\n",
    " - b_vec ~U(0,1)\n",
    " - browser = \"chrome\" when b_vec <= .65, \n",
    " - browser = \"safari\" when b_vec > .65 & <=.83\n",
    " - browser = \"firefox\" when b_vec > .83\n",
    "\n",
    "(Update: after working through the tutorial, I called the `value_counts()` method on the real checkout data and discovered that the browser feature is approximately evenly distributed into thirds. )\n",
    "\n",
    "In both cases, I'll assume that the browser is independent of other variables. One could implement a subtle interplay between browser and cart value or time on page, which we could create via conditional distributions. However, as the goal is to get some synthetic data set up quickly, the independent uniform distribution works.\n",
    "\n",
    "time_on_page:\n",
    "\n",
    "9000 floats.\n",
    "\n",
    "My initial investigation shows that it is an integer with a minimum value of 7.6 and a maximum value of 83. \n",
    "\n",
    "At the outset, we do not know the data-generating process nor the empiricla distribution of the data. So, the first thing that I'll do is ask the Data Camp terminal to produce a histogram to give me a rough idea of what the distribution might look like. Surprise:  I can call plots in their terminal! From that, time_on_page looks like a relatively tight uniform distribution.\n",
    "\n",
    "To be comprehensive, I could model the time_on_page variable as a function of checkout value, checkout page, and maybe browser. That would simulate a more realistic DGP, such that there might be a narrative whereby customers remained on the page to shop for items, and the different landing pages were more/less easy to use. However, since I note that the distribution of the data that I am trying to match is rough normal with relatively little spread, it looks like a straightforward ~N(43, 10.5)."
   ]
  },
  {
   "cell_type": "markdown",
   "id": "3973bb5a",
   "metadata": {},
   "source": [
    "## Synthetic Independent Variables\n",
    "\n",
    "We'll start by setting up the workspace with a random number Generator. "
   ]
  },
  {
   "cell_type": "code",
   "execution_count": 1,
   "id": "bab24de3",
   "metadata": {},
   "outputs": [],
   "source": [
    "## Simulation loop:\n",
    "\n",
    "## Python Example of random assignment\n",
    "import pandas as pd\n",
    "import numpy as np\n",
    "from matplotlib import pyplot as plt\n",
    "plt.style.use('seaborn-deep')\n",
    "import random\n",
    "\n",
    "## Initialize the random number generator that I'll use\n",
    "## for the variables:\n",
    "rng = np.random.default_rng(seed=31224)## generator with seed"
   ]
  },
  {
   "cell_type": "markdown",
   "id": "68c32399",
   "metadata": {},
   "source": [
    "Now we'll create the variables who do not depend on other values:"
   ]
  },
  {
   "cell_type": "code",
   "execution_count": 2,
   "id": "15d6a682",
   "metadata": {},
   "outputs": [],
   "source": [
    "## Start with the independent variables:\n",
    "## user_id, gender, and browser:\n",
    "\n",
    "n, p = 9000, .5\n",
    "user_id = np.arange(n)\n",
    "gender = rng.binomial(1, p, size = n)\n",
    "\n",
    "p_chrome, p_safari = .65, .18\n",
    "b_vec = rng.uniform(low=0, high = 1, size = n)\n",
    "browser = np.full(n, \"firefox\")\n",
    "browser[b_vec <p_chrome] = \"chrome\" ## less than .65\n",
    "browser[(b_vec > p_chrome) & \n",
    "        (b_vec <= p_chrome + p_safari)] = \"safari\" ## more than .65, less than .83\n"
   ]
  },
  {
   "cell_type": "markdown",
   "id": "fe55ae08",
   "metadata": {},
   "source": [
    "## Synthetic Conditional Variables\n",
    "\n",
    "Now the variables whose distribution is conditional on other features.\n",
    "In this simplified example, those are the features- checkout page, checkout value, number of purchases-- that we would expect to vary according in the A/B experiment."
   ]
  },
  {
   "cell_type": "code",
   "execution_count": 23,
   "id": "41f9fd7e",
   "metadata": {},
   "outputs": [
    {
     "name": "stdout",
     "output_type": "stream",
     "text": [
      "(array(['A', 'B', 'C'], dtype='<U1'), array([2853, 3135, 3012]))\n"
     ]
    },
    {
     "data": {
      "image/png": "[encoded data removed]",
      "text/plain": [
       "<Figure size 432x288 with 1 Axes>"
      ]
     },
     "metadata": {
      "needs_background": "light"
     },
     "output_type": "display_data"
    },
    {
     "data": {
      "image/png": "[encoded data removed]",
      "text/plain": [
       "<Figure size 432x288 with 1 Axes>"
      ]
     },
     "metadata": {
      "needs_background": "light"
     },
     "output_type": "display_data"
    }
   ],
   "source": [
    "\n",
    "## Checkout page:\n",
    "\n",
    "# Hyperparameters:\n",
    "# Prob of assignment:\n",
    "pa, pb, pc= .33, .34, .33\n",
    "\n",
    "np.random.seed(31224)\n",
    "p_vec = np.random.uniform(low=0, high = 1, size = n)\n",
    "\n",
    "checkout_value = np.full(n, \"C\")\n",
    "checkout_value[p_vec <=pa] = \"A\" ## 0- .33\\]\n",
    "checkout_value[(p_vec > pa) & (p_vec < pa+pb)] = \"B\" # \\(.33 - .77\\]\n",
    "\n",
    "print(np.unique(checkout_value, return_counts=True))\n",
    "\n",
    "## Integer of number of rows assigned to each checkout_page \n",
    "## This will be important for the conditional distributions later\n",
    "\n",
    "page_type, counts = np.unique(checkout_value, return_counts=True)\n",
    "\n",
    "n_a = counts[0] ## number with A\n",
    "n_b = counts[1] ## number with B\n",
    "n_c = counts[2] ## number with C\n",
    "\n",
    "# Order value:\n",
    "## Values | checkout condition:\n",
    "\n",
    "mu, sda, sdb, sdc, = 30, 7, 2.5, 5 #break for readability\n",
    "A_effect, B_effect, C_effect = -5, 0, 5\n",
    "\n",
    "cart_value_a = rng.normal(mu + A_effect, sda, size = n_a )\n",
    "cart_value_b = rng.normal(mu + B_effect, sdb, size = n_b )\n",
    "cart_value_c = rng.normal(mu + C_effect, sdc, size = n_c )\n",
    "\n",
    "## Truncate negative values. \n",
    "## I could import scipy stats for a true truncated normal,\n",
    "## but don't need to be so precise \n",
    "## and can just round all negatives to 0\n",
    "cart_value_a[cart_value_a < 0] = 0\n",
    "cart_value_b[cart_value_b < 0] = 0\n",
    "cart_value_c[cart_value_c < 0] = 0\n",
    "\n",
    "## Show:\n",
    "\n",
    "bins1 = np.linspace(0, 80, 10)\n",
    "\n",
    "plt.hist([cart_value_a, cart_value_b, cart_value_c], \n",
    "         bins1, label=['Cart | A ', 'Cart | B', 'Cart | C'])\n",
    "\n",
    "plt.legend(loc='upper right')\n",
    "plt.show()\n",
    "\n",
    "## Purchase:\n",
    "# items purhcased:\n",
    "lam_p, A_effect_p, B_effect_p, C_effect_p  = 2, 3, 0,  -1\n",
    "purchase_a = rng.poisson(lam_p + A_effect_p, size = n_a)\n",
    "purchase_b = rng.poisson(lam_p + B_effect_p, size= n_b)\n",
    "purchase_c = rng.poisson(lam_p + C_effect_p, size = n_c)\n",
    "\n",
    "\n",
    "bins2 = np.linspace(0, 10, 10)\n",
    "\n",
    "plt.hist([purchase_a, purchase_b, purchase_c], \n",
    "        bins2, \n",
    "         label=['purchase | A ', 'purchase | B', 'purchase | C'])\n",
    "\n",
    "plt.legend(loc='upper right')\n",
    "plt.show()\n",
    "\n",
    "## Quick check that none of the values have negatives:\n"
   ]
  },
  {
   "cell_type": "markdown",
   "id": "b5a2fada",
   "metadata": {},
   "source": [
    "Next I will do the time_on_page variable\n",
    "\n",
    "This is an integer, with a minium value of 7.6 and a maximum value of \n",
    "83. \n",
    "We don't know the distribution of the data, nor the data generating process. So the first thing that I'll do is try to get a histogram, to give me a rough idea of what the distribution might look like. I get the nice surprise that the Data Camp terminal does allow me to call plots. From that I can observe that time_on_page looks like a relatively tight uniform distribution.\n",
    "\n",
    "If I wanted to be comprensive, I could model the time_on_page variable as a function of checkout value, checkout page, and maybe browser. That would simulate a more realistic data generating process, such that there might be a narrative whereby customers remained on the page to shop for items and the different landing pages were more/less easy to use. However, since I note that the distribution of the data that I am trying to match is rough normal with relatively little spread, it looks like a straightforward ~N(43, 10.5)\n",
    "\n",
    "As I mentioned above, eyeballing the distribution looks like a Normal with very little spread. That makes me suspect that I can approximate it without any particular dependencies. \n",
    "\n",
    "A more sophisticated model would vary time_on_page by checkout page variant, and potentially by number of items purchased and browser. That would represent a (slightly) more realistic data-generating process.\n",
    "\n",
    "Given that I have the data that I am simulating, I can go in and check whether the mean varies according to some other value (in this case: experimental checkout page):\n",
    "\n",
    "`print(checkout.groupby('checkout_page')['time_on_page'].mean())`\n",
    "\n",
    "Doing so at Data Camp, I discover that the \"A\" condition produces a slightly higher mean in the time-to-checkout value: 44.67 versus 42.724 (B condition) and 42.224 (C). I can also use .groupby() to ask for the standard deviation according to the checkout page category. Doing so reveals that the standard deviation for group A is 11.6 and for groups B and C it is 9.705. \n",
    "\n",
    "I can build that into my model:\n"
   ]
  },
  {
   "cell_type": "code",
   "execution_count": 7,
   "id": "616f91f5",
   "metadata": {},
   "outputs": [],
   "source": [
    "## Time on page:\n",
    "\n",
    "## By looking at the data that I am matching,\n",
    "## It seems to be Normally distributed, with a slight \n",
    "## effect of checkout page A:\n",
    "\n",
    "mu_time, sda_time, sdb_time = 42.724, 11.6, 9.705 \n",
    "A_etime, B_etime, C_etime = 2, 0, -0.5\n",
    "\n",
    "time_on_page_a = rng.normal(mu_time + A_etime,\n",
    "                            sda_time, size = n_a )\n",
    "time_on_page_b = rng.normal(mu_time + B_etime,\n",
    "                            sdb_time, size = n_b )\n",
    "time_on_page_c = rng.normal(mu_time + C_etime, \n",
    "                            sdb_time, size = n_c )"
   ]
  },
  {
   "cell_type": "markdown",
   "id": "1969f35c",
   "metadata": {},
   "source": [
    "Now that I have a seed dataframe, I'll go back into the tutorial and see if can get more information to refine and check my work. \n",
    "\n",
    "In doing so, I realized that I mis-understood one of the variables: \"purchased\" does not code for the *number* of items purchased. Instead, it appears to be a binary value for whether anything was purchased at all.\n",
    "\n",
    "I like the \"purchases\" variable that we already made, so I'll keep it and add the \"purchased\" variable as ~Bin(9000, .85). (I'll also rename my original \"purchase\" variable to \"items_purchased\" to reduce future confusion.\n",
    "\n",
    "This is almost what we want, although ideally we don't want the assignement data to be blocked when we attach the independent variables (user ID, gender, browser). Thus, first I use the `.sample()` method to shuffle the rows, then add the remaining variables."
   ]
  },
  {
   "cell_type": "code",
   "execution_count": 10,
   "id": "4352ca20",
   "metadata": {},
   "outputs": [
    {
     "name": "stdout",
     "output_type": "stream",
     "text": [
      "   purchase  order_value checkout_value  time_on_page\n",
      "0         5    19.986956              A     38.073215\n",
      "1         7    19.777656              A     48.156596\n",
      "2         2    25.508101              A     26.309232\n",
      "3         4    30.871335              A     18.049385\n",
      "4         7    30.974235              A     30.968870\n"
     ]
    }
   ],
   "source": [
    "## Zip all of the A, B, C, conditions:\n",
    "va= pd.DataFrame({\"purchase\": purchase_a, \n",
    "                  \"order_value\": cart_value_a, \n",
    "                  \"checkout_value\": \"A\", \n",
    "                 \"time_on_page\": time_on_page_a})\n",
    "\n",
    "vb= pd.DataFrame({\"purchase\": purchase_b, \n",
    "                  \"order_value\": cart_value_b,\n",
    "                  \"checkout_value\": \"B\",\n",
    "                  \"time_on_page\": time_on_page_b})\n",
    "\n",
    "vc= pd.DataFrame({\"purchase\": purchase_c,\n",
    "                  \"order_value\": cart_value_c, \n",
    "                  \"checkout_value\": \"C\",\n",
    "                 \"time_on_page\": time_on_page_c})\n",
    "\n",
    "checkout = pd.concat([va, vb, vc], \n",
    "                     ignore_index=True,\n",
    "                     axis=0)\n",
    "\n",
    "print(checkout.head())"
   ]
  },
  {
   "cell_type": "code",
   "execution_count": 11,
   "id": "451df534",
   "metadata": {
    "scrolled": true
   },
   "outputs": [
    {
     "name": "stdout",
     "output_type": "stream",
     "text": [
      "          purchase  order_value  time_on_page      user_id       gender\n",
      "count  9000.000000  9000.000000   9000.000000  9000.000000  9000.000000\n",
      "mean      2.629000    30.099005     43.128276  4499.500000     0.507444\n",
      "std       2.318323     6.510790     10.425844  2598.220545     0.499972\n",
      "min       0.000000     2.613673      7.339559     0.000000     0.000000\n",
      "25%       1.000000    26.907923     36.087407  2249.750000     0.000000\n",
      "50%       2.000000    30.341479     42.977300  4499.500000     1.000000\n",
      "75%       4.000000    33.949601     50.214656  6749.250000     1.000000\n",
      "max      14.000000    53.791711     86.493732  8999.000000     1.000000\n"
     ]
    }
   ],
   "source": [
    "checkout = checkout.sample(frac=1)\n",
    "\n",
    "checkout[\"browser\"] = pd.Series(browser)\n",
    "checkout[\"user_id\"] = pd.Series(user_id)\n",
    "checkout[\"gender\"]= pd.Series(gender)\n",
    "\n",
    "print(checkout.describe())"
   ]
  },
  {
   "cell_type": "markdown",
   "id": "c98ec046",
   "metadata": {},
   "source": []
  },
  {
   "cell_type": "markdown",
   "id": "aee734cc",
   "metadata": {},
   "source": [
    "Now that I have a seed data frame, I'll go back into the tutorial and see if I can get more information to refine and check my work.\n",
    "\n",
    "In doing so, I realized that I misunderstood one of the variables: \"purchased\" does not code for the *number* of items purchased. \"Purchased\" is actually a binary value for whether the shopper made a purchase.\n",
    "\n",
    "I like the \"items_purchased\" variable that we already made, so I'll keep it and add the \"purchased\" variable as ~Bin(9000, .85). (I'll also rename my original \"purchase\" variable to \"items_purchased\" to reduce future confusion.\n",
    "\n",
    "There is a small subtlety in that for the 15% of carts with no purchases, we also expect the order value and number of items to be 0. \n",
    "\n",
    "I'll use the previous generator to develop the baseline distribution.\n",
    "Then, I'll go in and align the zeros."
   ]
  },
  {
   "cell_type": "code",
   "execution_count": 14,
   "id": "0af15c08",
   "metadata": {},
   "outputs": [
    {
     "name": "stdout",
     "output_type": "stream",
     "text": [
      "0.8352222222222222\n"
     ]
    }
   ],
   "source": [
    "\n",
    "n_purch, p_purch = 9000, .83\n",
    "\n",
    "np.random.seed(31224)\n",
    "purchased = rng.binomial(1, p_purch, size = n_purch)\n",
    "print(purchased.mean())\n",
    "\n"
   ]
  },
  {
   "cell_type": "markdown",
   "id": "fb57c81f",
   "metadata": {},
   "source": [
    "Insert the \"purchased\" vector into checkout, placing it near the order_value column:"
   ]
  },
  {
   "cell_type": "code",
   "execution_count": 15,
   "id": "a792a3f7",
   "metadata": {},
   "outputs": [
    {
     "ename": "ValueError",
     "evalue": "cannot insert purchased, already exists",
     "output_type": "error",
     "traceback": [
      "\u001b[0;31m---------------------------------------------------------------------------\u001b[0m",
      "\u001b[0;31mValueError\u001b[0m                                Traceback (most recent call last)",
      "Input \u001b[0;32mIn [15]\u001b[0m, in \u001b[0;36m<cell line: 3>\u001b[0;34m()\u001b[0m\n\u001b[1;32m      1\u001b[0m \u001b[38;5;66;03m#Insert the vector into checkout:\u001b[39;00m\n\u001b[1;32m      2\u001b[0m \u001b[38;5;66;03m## placing it near the order_value column:\u001b[39;00m\n\u001b[0;32m----> 3\u001b[0m \u001b[43mcheckout\u001b[49m\u001b[38;5;241;43m.\u001b[39;49m\u001b[43minsert\u001b[49m\u001b[43m(\u001b[49m\u001b[38;5;241;43m2\u001b[39;49m\u001b[43m,\u001b[49m\u001b[43m \u001b[49m\u001b[38;5;124;43m\"\u001b[39;49m\u001b[38;5;124;43mpurchased\u001b[39;49m\u001b[38;5;124;43m\"\u001b[39;49m\u001b[43m,\u001b[49m\u001b[43m \u001b[49m\u001b[43mpurchased\u001b[49m\u001b[43m)\u001b[49m\n",
      "File \u001b[0;32m~/opt/anaconda3/lib/python3.9/site-packages/pandas/core/frame.py:4440\u001b[0m, in \u001b[0;36mDataFrame.insert\u001b[0;34m(self, loc, column, value, allow_duplicates)\u001b[0m\n\u001b[1;32m   4434\u001b[0m     \u001b[38;5;28;01mraise\u001b[39;00m \u001b[38;5;167;01mValueError\u001b[39;00m(\n\u001b[1;32m   4435\u001b[0m         \u001b[38;5;124m\"\u001b[39m\u001b[38;5;124mCannot specify \u001b[39m\u001b[38;5;124m'\u001b[39m\u001b[38;5;124mallow_duplicates=True\u001b[39m\u001b[38;5;124m'\u001b[39m\u001b[38;5;124m when \u001b[39m\u001b[38;5;124m\"\u001b[39m\n\u001b[1;32m   4436\u001b[0m         \u001b[38;5;124m\"\u001b[39m\u001b[38;5;124m'\u001b[39m\u001b[38;5;124mself.flags.allows_duplicate_labels\u001b[39m\u001b[38;5;124m'\u001b[39m\u001b[38;5;124m is False.\u001b[39m\u001b[38;5;124m\"\u001b[39m\n\u001b[1;32m   4437\u001b[0m     )\n\u001b[1;32m   4438\u001b[0m \u001b[38;5;28;01mif\u001b[39;00m \u001b[38;5;129;01mnot\u001b[39;00m allow_duplicates \u001b[38;5;129;01mand\u001b[39;00m column \u001b[38;5;129;01min\u001b[39;00m \u001b[38;5;28mself\u001b[39m\u001b[38;5;241m.\u001b[39mcolumns:\n\u001b[1;32m   4439\u001b[0m     \u001b[38;5;66;03m# Should this be a different kind of error??\u001b[39;00m\n\u001b[0;32m-> 4440\u001b[0m     \u001b[38;5;28;01mraise\u001b[39;00m \u001b[38;5;167;01mValueError\u001b[39;00m(\u001b[38;5;124mf\u001b[39m\u001b[38;5;124m\"\u001b[39m\u001b[38;5;124mcannot insert \u001b[39m\u001b[38;5;132;01m{\u001b[39;00mcolumn\u001b[38;5;132;01m}\u001b[39;00m\u001b[38;5;124m, already exists\u001b[39m\u001b[38;5;124m\"\u001b[39m)\n\u001b[1;32m   4441\u001b[0m \u001b[38;5;28;01mif\u001b[39;00m \u001b[38;5;129;01mnot\u001b[39;00m \u001b[38;5;28misinstance\u001b[39m(loc, \u001b[38;5;28mint\u001b[39m):\n\u001b[1;32m   4442\u001b[0m     \u001b[38;5;28;01mraise\u001b[39;00m \u001b[38;5;167;01mTypeError\u001b[39;00m(\u001b[38;5;124m\"\u001b[39m\u001b[38;5;124mloc must be int\u001b[39m\u001b[38;5;124m\"\u001b[39m)\n",
      "\u001b[0;31mValueError\u001b[0m: cannot insert purchased, already exists"
     ]
    }
   ],
   "source": [
    "checkout.insert(2, \"purchased\", purchased)"
   ]
  },
  {
   "cell_type": "markdown",
   "id": "93c02e3d",
   "metadata": {},
   "source": [
    "Small cleanup to the order_value feature: zero out rows where for which there was no purchase:"
   ]
  },
  {
   "cell_type": "code",
   "execution_count": 17,
   "id": "5b922fcb",
   "metadata": {},
   "outputs": [
    {
     "name": "stdout",
     "output_type": "stream",
     "text": [
      "<class 'pandas.core.frame.DataFrame'>\n",
      "Int64Index: 9000 entries, 902 to 666\n",
      "Data columns (total 8 columns):\n",
      " #   Column          Non-Null Count  Dtype  \n",
      "---  ------          --------------  -----  \n",
      " 0   purchase        9000 non-null   int64  \n",
      " 1   order_value     9000 non-null   float64\n",
      " 2   purchased       9000 non-null   int64  \n",
      " 3   checkout_value  9000 non-null   object \n",
      " 4   time_on_page    9000 non-null   float64\n",
      " 5   browser         9000 non-null   object \n",
      " 6   user_id         9000 non-null   int64  \n",
      " 7   gender          9000 non-null   int64  \n",
      "dtypes: float64(2), int64(4), object(2)\n",
      "memory usage: 632.8+ KB\n",
      "None\n"
     ]
    }
   ],
   "source": [
    "\n",
    "checkout.loc[checkout['purchased'] == 0, \"order_value\"] = 0\n",
    "print(checkout.info())\n"
   ]
  },
  {
   "cell_type": "markdown",
   "id": "d80e43c5",
   "metadata": {},
   "source": [
    "\n"
   ]
  },
  {
   "cell_type": "markdown",
   "id": "f5302f3d",
   "metadata": {},
   "source": [
    "Almost there, but when I look at the data in the tutorial, I also notice that the \"order_value\" column only has 7605 values, rather than the 9,000 values that I have.\n",
    "\n",
    "To fix this, I'll randomly drop `9000-7605`  values, which represents the difference between my value and the Data Camp value:"
   ]
  },
  {
   "cell_type": "code",
   "execution_count": 18,
   "id": "c5809c0e",
   "metadata": {},
   "outputs": [
    {
     "name": "stdout",
     "output_type": "stream",
     "text": [
      "<class 'pandas.core.frame.DataFrame'>\n",
      "Int64Index: 9000 entries, 902 to 666\n",
      "Data columns (total 8 columns):\n",
      " #   Column          Non-Null Count  Dtype  \n",
      "---  ------          --------------  -----  \n",
      " 0   purchase        9000 non-null   int64  \n",
      " 1   order_value     7605 non-null   float64\n",
      " 2   purchased       9000 non-null   int64  \n",
      " 3   checkout_value  9000 non-null   object \n",
      " 4   time_on_page    9000 non-null   float64\n",
      " 5   browser         9000 non-null   object \n",
      " 6   user_id         9000 non-null   int64  \n",
      " 7   gender          9000 non-null   int64  \n",
      "dtypes: float64(2), int64(4), object(2)\n",
      "memory usage: 632.8+ KB\n",
      "None\n"
     ]
    }
   ],
   "source": [
    "\n",
    "random.seed(31224)\n",
    "res = random.sample(range(1, n), (9000-7605))\n",
    "\n",
    "checkout.loc[checkout['user_id'].isin(res), 'order_value'] = np.nan\n",
    "\n",
    "print(checkout.info())\n"
   ]
  },
  {
   "cell_type": "markdown",
   "id": "af2ec4a8",
   "metadata": {},
   "source": [
    "Yay! Now (a day later....) I can save the synethetic data and get back to following along the tutorial!"
   ]
  },
  {
   "cell_type": "code",
   "execution_count": 20,
   "id": "b9467f7c",
   "metadata": {},
   "outputs": [],
   "source": [
    "# Save:\n",
    "checkout.to_csv('../Data/checkout.csv', index=False) "
   ]
  }
 ],
 "metadata": {
  "kernelspec": {
   "display_name": "Python 3 (ipykernel)",
   "language": "python",
   "name": "python3"
  },
  "language_info": {
   "codemirror_mode": {
    "name": "ipython",
    "version": 3
   },
   "file_extension": ".py",
   "mimetype": "text/x-python",
   "name": "python",
   "nbconvert_exporter": "python",
   "pygments_lexer": "ipython3",
   "version": "3.9.12"
  }
 },
 "nbformat": 4,
 "nbformat_minor": 5
}
